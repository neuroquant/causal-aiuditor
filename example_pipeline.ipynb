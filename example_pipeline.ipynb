{
  "cells": [
    {
      "cell_type": "markdown",
      "metadata": {
        "colab_type": "text",
        "id": "view-in-github"
      },
      "source": [
        "<a href=\"https://colab.research.google.com/github/neuroquant/causal-aiuditor/blob/main/example_pipeline.ipynb\" target=\"_parent\"><img src=\"https://colab.research.google.com/assets/colab-badge.svg\" alt=\"Open In Colab\"/></a>"
      ]
    },
    {
      "cell_type": "code",
      "execution_count": null,
      "metadata": {},
      "outputs": [],
      "source": [
        "# provide paper asi input\n",
        "\n",
        "#series of q&a to a set of 5-10 reasoning agents meta-leevl prompt, many generations of questions \n",
        "# to do prompt evaluation experiement\n",
        "\n",
        "#example of smalls cale: data/20201lancet folder. 5 conversatoin with 5 models where system prompt and users prompt \n",
        "# where the answer is recorded.\n",
        "\n",
        "# frontier math replicate prompt. we need to separate 2 slight variation of prompts gives answer. random variation or its it because the change in the prompt\n",
        "# average answers and score across 5 replicates. Take advantage of variations between replicates versus change in the prompt questions. \n",
        "# a naturalisitc qualitative assessment of large reasoning agents. \n",
        "\n",
        "# answer: we'll have given meta-level rpompt. evaluate whether agents detect one type of collider bias in this paper.\n",
        "#we might have meta-level romopt varies 10-25 diferent ways. 25 unique pomrpts- each has 5 replicate. ask 5 models, reasoning agents. \n",
        "# evaluate based on different dimentions - scoring crtieria we came up\n",
        "\n",
        "# assess  with more principled scoring crtieria. even 1 type of bias at a high level. we have a lot of data produce.\n",
        "\n",
        "# "
      ]
    },
    {
      "cell_type": "code",
      "execution_count": null,
      "metadata": {
        "id": "e5gCKfAk_Raz"
      },
      "outputs": [],
      "source": []
    }
  ],
  "metadata": {
    "colab": {
      "authorship_tag": "ABX9TyMRWkD9oRai4LxPNAzyddQ/",
      "include_colab_link": true,
      "private_outputs": true,
      "provenance": []
    },
    "kernelspec": {
      "display_name": "Python 3",
      "name": "python3"
    },
    "language_info": {
      "name": "python"
    }
  },
  "nbformat": 4,
  "nbformat_minor": 0
}
